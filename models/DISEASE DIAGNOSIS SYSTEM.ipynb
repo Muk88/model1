{
 "cells": [
  {
   "cell_type": "markdown",
   "id": "ed1fa22f-c2f9-451c-aaed-120ed29d24dd",
   "metadata": {},
   "source": [
    "# TITLE: ADVANCED MODEL TO DIAGNOSE DISEASE AND PRESCRIBE BASED ON USER INPUTS"
   ]
  },
  {
   "cell_type": "markdown",
   "id": "8d2059b4-3071-4c3a-a136-cc3c07441fa3",
   "metadata": {},
   "source": [
    "## DATASET LOADING"
   ]
  },
  {
   "cell_type": "code",
   "execution_count": 100,
   "id": "c4bb6b7f-c6a4-458e-ab0c-9c051ab2a8ef",
   "metadata": {},
   "outputs": [],
   "source": [
    "import pandas as pd"
   ]
  },
  {
   "cell_type": "code",
   "execution_count": 120,
   "id": "e4117d60-5aa4-4342-aed4-47581da7485a",
   "metadata": {},
   "outputs": [],
   "source": [
    "df = pd.read_csv(\"C:/Users/user/Downloads/Disease_diagnosis system/dataset/Training.csv\")"
   ]
  },
  {
   "cell_type": "code",
   "execution_count": 102,
   "id": "176fbec7-cc16-4fcd-aa87-1288938920c0",
   "metadata": {},
   "outputs": [
    {
     "data": {
      "text/html": [
       "<div>\n",
       "<style scoped>\n",
       "    .dataframe tbody tr th:only-of-type {\n",
       "        vertical-align: middle;\n",
       "    }\n",
       "\n",
       "    .dataframe tbody tr th {\n",
       "        vertical-align: top;\n",
       "    }\n",
       "\n",
       "    .dataframe thead th {\n",
       "        text-align: right;\n",
       "    }\n",
       "</style>\n",
       "<table border=\"1\" class=\"dataframe\">\n",
       "  <thead>\n",
       "    <tr style=\"text-align: right;\">\n",
       "      <th></th>\n",
       "      <th>itching</th>\n",
       "      <th>skin_rash</th>\n",
       "      <th>nodal_skin_eruptions</th>\n",
       "      <th>continuous_sneezing</th>\n",
       "      <th>shivering</th>\n",
       "      <th>chills</th>\n",
       "      <th>joint_pain</th>\n",
       "      <th>stomach_pain</th>\n",
       "      <th>acidity</th>\n",
       "      <th>ulcers_on_tongue</th>\n",
       "      <th>...</th>\n",
       "      <th>blackheads</th>\n",
       "      <th>scurring</th>\n",
       "      <th>skin_peeling</th>\n",
       "      <th>silver_like_dusting</th>\n",
       "      <th>small_dents_in_nails</th>\n",
       "      <th>inflammatory_nails</th>\n",
       "      <th>blister</th>\n",
       "      <th>red_sore_around_nose</th>\n",
       "      <th>yellow_crust_ooze</th>\n",
       "      <th>prognosis</th>\n",
       "    </tr>\n",
       "  </thead>\n",
       "  <tbody>\n",
       "    <tr>\n",
       "      <th>0</th>\n",
       "      <td>1</td>\n",
       "      <td>1</td>\n",
       "      <td>1</td>\n",
       "      <td>0</td>\n",
       "      <td>0</td>\n",
       "      <td>0</td>\n",
       "      <td>0</td>\n",
       "      <td>0</td>\n",
       "      <td>0</td>\n",
       "      <td>0</td>\n",
       "      <td>...</td>\n",
       "      <td>0</td>\n",
       "      <td>0</td>\n",
       "      <td>0</td>\n",
       "      <td>0</td>\n",
       "      <td>0</td>\n",
       "      <td>0</td>\n",
       "      <td>0</td>\n",
       "      <td>0</td>\n",
       "      <td>0</td>\n",
       "      <td>Fungal infection</td>\n",
       "    </tr>\n",
       "    <tr>\n",
       "      <th>1</th>\n",
       "      <td>0</td>\n",
       "      <td>1</td>\n",
       "      <td>1</td>\n",
       "      <td>0</td>\n",
       "      <td>0</td>\n",
       "      <td>0</td>\n",
       "      <td>0</td>\n",
       "      <td>0</td>\n",
       "      <td>0</td>\n",
       "      <td>0</td>\n",
       "      <td>...</td>\n",
       "      <td>0</td>\n",
       "      <td>0</td>\n",
       "      <td>0</td>\n",
       "      <td>0</td>\n",
       "      <td>0</td>\n",
       "      <td>0</td>\n",
       "      <td>0</td>\n",
       "      <td>0</td>\n",
       "      <td>0</td>\n",
       "      <td>Fungal infection</td>\n",
       "    </tr>\n",
       "    <tr>\n",
       "      <th>2</th>\n",
       "      <td>1</td>\n",
       "      <td>0</td>\n",
       "      <td>1</td>\n",
       "      <td>0</td>\n",
       "      <td>0</td>\n",
       "      <td>0</td>\n",
       "      <td>0</td>\n",
       "      <td>0</td>\n",
       "      <td>0</td>\n",
       "      <td>0</td>\n",
       "      <td>...</td>\n",
       "      <td>0</td>\n",
       "      <td>0</td>\n",
       "      <td>0</td>\n",
       "      <td>0</td>\n",
       "      <td>0</td>\n",
       "      <td>0</td>\n",
       "      <td>0</td>\n",
       "      <td>0</td>\n",
       "      <td>0</td>\n",
       "      <td>Fungal infection</td>\n",
       "    </tr>\n",
       "    <tr>\n",
       "      <th>3</th>\n",
       "      <td>1</td>\n",
       "      <td>1</td>\n",
       "      <td>0</td>\n",
       "      <td>0</td>\n",
       "      <td>0</td>\n",
       "      <td>0</td>\n",
       "      <td>0</td>\n",
       "      <td>0</td>\n",
       "      <td>0</td>\n",
       "      <td>0</td>\n",
       "      <td>...</td>\n",
       "      <td>0</td>\n",
       "      <td>0</td>\n",
       "      <td>0</td>\n",
       "      <td>0</td>\n",
       "      <td>0</td>\n",
       "      <td>0</td>\n",
       "      <td>0</td>\n",
       "      <td>0</td>\n",
       "      <td>0</td>\n",
       "      <td>Fungal infection</td>\n",
       "    </tr>\n",
       "    <tr>\n",
       "      <th>4</th>\n",
       "      <td>1</td>\n",
       "      <td>1</td>\n",
       "      <td>1</td>\n",
       "      <td>0</td>\n",
       "      <td>0</td>\n",
       "      <td>0</td>\n",
       "      <td>0</td>\n",
       "      <td>0</td>\n",
       "      <td>0</td>\n",
       "      <td>0</td>\n",
       "      <td>...</td>\n",
       "      <td>0</td>\n",
       "      <td>0</td>\n",
       "      <td>0</td>\n",
       "      <td>0</td>\n",
       "      <td>0</td>\n",
       "      <td>0</td>\n",
       "      <td>0</td>\n",
       "      <td>0</td>\n",
       "      <td>0</td>\n",
       "      <td>Fungal infection</td>\n",
       "    </tr>\n",
       "  </tbody>\n",
       "</table>\n",
       "<p>5 rows × 133 columns</p>\n",
       "</div>"
      ],
      "text/plain": [
       "   itching  skin_rash  nodal_skin_eruptions  continuous_sneezing  shivering  \\\n",
       "0        1          1                     1                    0          0   \n",
       "1        0          1                     1                    0          0   \n",
       "2        1          0                     1                    0          0   \n",
       "3        1          1                     0                    0          0   \n",
       "4        1          1                     1                    0          0   \n",
       "\n",
       "   chills  joint_pain  stomach_pain  acidity  ulcers_on_tongue  ...  \\\n",
       "0       0           0             0        0                 0  ...   \n",
       "1       0           0             0        0                 0  ...   \n",
       "2       0           0             0        0                 0  ...   \n",
       "3       0           0             0        0                 0  ...   \n",
       "4       0           0             0        0                 0  ...   \n",
       "\n",
       "   blackheads  scurring  skin_peeling  silver_like_dusting  \\\n",
       "0           0         0             0                    0   \n",
       "1           0         0             0                    0   \n",
       "2           0         0             0                    0   \n",
       "3           0         0             0                    0   \n",
       "4           0         0             0                    0   \n",
       "\n",
       "   small_dents_in_nails  inflammatory_nails  blister  red_sore_around_nose  \\\n",
       "0                     0                   0        0                     0   \n",
       "1                     0                   0        0                     0   \n",
       "2                     0                   0        0                     0   \n",
       "3                     0                   0        0                     0   \n",
       "4                     0                   0        0                     0   \n",
       "\n",
       "   yellow_crust_ooze         prognosis  \n",
       "0                  0  Fungal infection  \n",
       "1                  0  Fungal infection  \n",
       "2                  0  Fungal infection  \n",
       "3                  0  Fungal infection  \n",
       "4                  0  Fungal infection  \n",
       "\n",
       "[5 rows x 133 columns]"
      ]
     },
     "execution_count": 102,
     "metadata": {},
     "output_type": "execute_result"
    }
   ],
   "source": [
    "df.head()"
   ]
  },
  {
   "cell_type": "code",
   "execution_count": 103,
   "id": "d594817a-5a92-4912-baa9-fad6d55529b0",
   "metadata": {},
   "outputs": [
    {
     "name": "stdout",
     "output_type": "stream",
     "text": [
      "<class 'pandas.core.frame.DataFrame'>\n",
      "RangeIndex: 4920 entries, 0 to 4919\n",
      "Columns: 133 entries, itching to prognosis\n",
      "dtypes: int64(132), object(1)\n",
      "memory usage: 5.0+ MB\n"
     ]
    }
   ],
   "source": [
    "df.info()"
   ]
  },
  {
   "cell_type": "markdown",
   "id": "fdd919c7-5bf6-4ef8-b4a6-e672f68b63e3",
   "metadata": {},
   "source": [
    "## DATASET SPLITTING"
   ]
  },
  {
   "cell_type": "code",
   "execution_count": 104,
   "id": "c7ee64de-19d3-48db-a70f-7c6ac1fc4d31",
   "metadata": {},
   "outputs": [],
   "source": [
    "from sklearn.model_selection import train_test_split\n",
    "from sklearn.preprocessing import LabelEncoder, StandardScaler"
   ]
  },
  {
   "cell_type": "code",
   "execution_count": 105,
   "id": "83323eb4-bf06-4e76-a97a-ece0a0f20282",
   "metadata": {},
   "outputs": [],
   "source": [
    "X = df.drop('prognosis', axis=1)\n",
    "y = df['prognosis']"
   ]
  },
  {
   "cell_type": "code",
   "execution_count": 106,
   "id": "181524af-21b4-4911-8794-fcba86f4dc26",
   "metadata": {},
   "outputs": [],
   "source": [
    "le = LabelEncoder()\n",
    "le.fit(y)\n",
    "Y = le.transform(y)"
   ]
  },
  {
   "cell_type": "code",
   "execution_count": 107,
   "id": "479259e9-d22e-42d6-9dc6-0919bbf59cde",
   "metadata": {},
   "outputs": [],
   "source": [
    "X_train, X_test, y_train, y_test = train_test_split(\n",
    "    X, Y, test_size=0.2, random_state=42\n",
    ")"
   ]
  },
  {
   "cell_type": "markdown",
   "id": "0e1d0902-eada-4e8a-95d7-02dcf9e7b824",
   "metadata": {},
   "source": [
    "## TRAINING MODELS"
   ]
  },
  {
   "cell_type": "code",
   "execution_count": 108,
   "id": "0bae5363-d161-42c2-b07c-965213996872",
   "metadata": {},
   "outputs": [],
   "source": [
    "import numpy as np\n",
    "from sklearn.linear_model import LogisticRegression\n",
    "from sklearn.ensemble import RandomForestClassifier\n",
    "from sklearn.svm import SVC\n",
    "from sklearn.neighbors import KNeighborsClassifier\n",
    "from sklearn.naive_bayes import MultinomialNB\n",
    "\n",
    "from sklearn.metrics import accuracy_score, f1_score, confusion_matrix"
   ]
  },
  {
   "cell_type": "markdown",
   "id": "18d97b55-8b78-49d6-8e99-07be5ea1d17c",
   "metadata": {},
   "source": [
    "#### Storing models in a dictionary"
   ]
  },
  {
   "cell_type": "code",
   "execution_count": 109,
   "id": "00e61682-b7ee-4318-bfc5-a511d9842345",
   "metadata": {},
   "outputs": [],
   "source": [
    "models = {\n",
    "    \"Logistic Regression\": LogisticRegression(max_iter=1000, random_state=42),\n",
    "    \"Random Forest\": RandomForestClassifier(n_estimators=100,random_state=42),\n",
    "    \"SVM\": SVC(kernel='linear',random_state=42),\n",
    "    \"KNN\": KNeighborsClassifier(n_neighbors=5),\n",
    "    \"Naive Bayes\": MultinomialNB()\n",
    "}\n",
    "\n",
    "results = {}"
   ]
  },
  {
   "cell_type": "markdown",
   "id": "77b8608a-2566-4541-9bf1-95415d02b32f",
   "metadata": {},
   "source": [
    "#### Training Loop"
   ]
  },
  {
   "cell_type": "code",
   "execution_count": 110,
   "id": "7736ae9f-be01-4b3f-96f0-4ade2bf879bf",
   "metadata": {},
   "outputs": [
    {
     "name": "stdout",
     "output_type": "stream",
     "text": [
      "Training Logistic Regression...\n",
      "Logistic Regression - Accuracy: 1.0000, F1 Score: 1.0000\n",
      "\n",
      "Logistic Regression - Confusion Matrix: [[18  0  0 ...  0  0  0]\n",
      " [ 0 30  0 ...  0  0  0]\n",
      " [ 0  0 24 ...  0  0  0]\n",
      " ...\n",
      " [ 0  0  0 ... 26  0  0]\n",
      " [ 0  0  0 ...  0 22  0]\n",
      " [ 0  0  0 ...  0  0 34]]\n",
      "[[18,  0,  0, ...,  0,  0,  0],\n",
      " [ 0, 30,  0, ...,  0,  0,  0],\n",
      " [ 0,  0, 24, ...,  0,  0,  0],\n",
      " ...,\n",
      " [ 0,  0,  0, ..., 26,  0,  0],\n",
      " [ 0,  0,  0, ...,  0, 22,  0],\n",
      " [ 0,  0,  0, ...,  0,  0, 34]]\n",
      "Training Random Forest...\n",
      "Random Forest - Accuracy: 1.0000, F1 Score: 1.0000\n",
      "\n",
      "Random Forest - Confusion Matrix: [[18  0  0 ...  0  0  0]\n",
      " [ 0 30  0 ...  0  0  0]\n",
      " [ 0  0 24 ...  0  0  0]\n",
      " ...\n",
      " [ 0  0  0 ... 26  0  0]\n",
      " [ 0  0  0 ...  0 22  0]\n",
      " [ 0  0  0 ...  0  0 34]]\n",
      "[[18,  0,  0, ...,  0,  0,  0],\n",
      " [ 0, 30,  0, ...,  0,  0,  0],\n",
      " [ 0,  0, 24, ...,  0,  0,  0],\n",
      " ...,\n",
      " [ 0,  0,  0, ..., 26,  0,  0],\n",
      " [ 0,  0,  0, ...,  0, 22,  0],\n",
      " [ 0,  0,  0, ...,  0,  0, 34]]\n",
      "Training SVM...\n",
      "SVM - Accuracy: 1.0000, F1 Score: 1.0000\n",
      "\n",
      "SVM - Confusion Matrix: [[18  0  0 ...  0  0  0]\n",
      " [ 0 30  0 ...  0  0  0]\n",
      " [ 0  0 24 ...  0  0  0]\n",
      " ...\n",
      " [ 0  0  0 ... 26  0  0]\n",
      " [ 0  0  0 ...  0 22  0]\n",
      " [ 0  0  0 ...  0  0 34]]\n",
      "[[18,  0,  0, ...,  0,  0,  0],\n",
      " [ 0, 30,  0, ...,  0,  0,  0],\n",
      " [ 0,  0, 24, ...,  0,  0,  0],\n",
      " ...,\n",
      " [ 0,  0,  0, ..., 26,  0,  0],\n",
      " [ 0,  0,  0, ...,  0, 22,  0],\n",
      " [ 0,  0,  0, ...,  0,  0, 34]]\n",
      "Training KNN...\n",
      "KNN - Accuracy: 1.0000, F1 Score: 1.0000\n",
      "\n",
      "KNN - Confusion Matrix: [[18  0  0 ...  0  0  0]\n",
      " [ 0 30  0 ...  0  0  0]\n",
      " [ 0  0 24 ...  0  0  0]\n",
      " ...\n",
      " [ 0  0  0 ... 26  0  0]\n",
      " [ 0  0  0 ...  0 22  0]\n",
      " [ 0  0  0 ...  0  0 34]]\n",
      "[[18,  0,  0, ...,  0,  0,  0],\n",
      " [ 0, 30,  0, ...,  0,  0,  0],\n",
      " [ 0,  0, 24, ...,  0,  0,  0],\n",
      " ...,\n",
      " [ 0,  0,  0, ..., 26,  0,  0],\n",
      " [ 0,  0,  0, ...,  0, 22,  0],\n",
      " [ 0,  0,  0, ...,  0,  0, 34]]\n",
      "Training Naive Bayes...\n",
      "Naive Bayes - Accuracy: 1.0000, F1 Score: 1.0000\n",
      "\n",
      "Naive Bayes - Confusion Matrix: [[18  0  0 ...  0  0  0]\n",
      " [ 0 30  0 ...  0  0  0]\n",
      " [ 0  0 24 ...  0  0  0]\n",
      " ...\n",
      " [ 0  0  0 ... 26  0  0]\n",
      " [ 0  0  0 ...  0 22  0]\n",
      " [ 0  0  0 ...  0  0 34]]\n",
      "[[18,  0,  0, ...,  0,  0,  0],\n",
      " [ 0, 30,  0, ...,  0,  0,  0],\n",
      " [ 0,  0, 24, ...,  0,  0,  0],\n",
      " ...,\n",
      " [ 0,  0,  0, ..., 26,  0,  0],\n",
      " [ 0,  0,  0, ...,  0, 22,  0],\n",
      " [ 0,  0,  0, ...,  0,  0, 34]]\n"
     ]
    }
   ],
   "source": [
    "for model_name, model in models.items():\n",
    "    print(f\"Training {model_name}...\")\n",
    "    model.fit(X_train, y_train)\n",
    "    y_pred = model.predict(X_test)\n",
    "    \n",
    "    # Compute evaluation metrics\n",
    "    accuracy = accuracy_score(y_test, y_pred)\n",
    "    f1 = f1_score(y_test, y_pred, average='weighted')\n",
    "    matrix = confusion_matrix(y_test, y_pred)\n",
    "    \n",
    "    print(f\"{model_name} - Accuracy: {accuracy:.4f}, F1 Score: {f1:.4f}\\n\")\n",
    "    print(f\"{model_name} - Confusion Matrix: {matrix}\")\n",
    "    print(np.array2string(matrix, separator=', '))\n",
    "    results[model_name] = {\"accuracy\": accuracy, \"f1\": f1}"
   ]
  },
  {
   "cell_type": "markdown",
   "id": "c918abb5-7b2d-4fcf-af9f-80482a22a3ed",
   "metadata": {},
   "source": [
    "#### Results Comparison"
   ]
  },
  {
   "cell_type": "code",
   "execution_count": 111,
   "id": "4f9fe367-a771-4314-b775-8079427746af",
   "metadata": {},
   "outputs": [
    {
     "name": "stdout",
     "output_type": "stream",
     "text": [
      "Model Comparison Results:\n",
      "                     accuracy   f1\n",
      "Logistic Regression       1.0  1.0\n",
      "Random Forest             1.0  1.0\n",
      "SVM                       1.0  1.0\n",
      "KNN                       1.0  1.0\n",
      "Naive Bayes               1.0  1.0\n"
     ]
    }
   ],
   "source": [
    "results_df = pd.DataFrame(results).T\n",
    "print(\"Model Comparison Results:\")\n",
    "print(results_df)"
   ]
  },
  {
   "cell_type": "markdown",
   "id": "17c88a7c-07ca-4e07-8389-55a2f7eb5ac5",
   "metadata": {},
   "source": [
    "## TRAINING A SINGLE MODEL"
   ]
  },
  {
   "cell_type": "code",
   "execution_count": 112,
   "id": "3250397c-9471-46e0-8d6a-2c14c96c9e38",
   "metadata": {},
   "outputs": [
    {
     "data": {
      "text/plain": [
       "1.0"
      ]
     },
     "execution_count": 112,
     "metadata": {},
     "output_type": "execute_result"
    }
   ],
   "source": [
    "Random_Forest = RandomForestClassifier(n_estimators=100,random_state=42)\n",
    "Random_Forest.fit(X_train,y_train)\n",
    "ypred = Random_Forest.predict(X_test)\n",
    "accuracy_score(y_test,ypred)"
   ]
  },
  {
   "cell_type": "markdown",
   "id": "58fe3668-f6d0-4745-b065-d42d9b308b35",
   "metadata": {},
   "source": [
    "#### Saving Model"
   ]
  },
  {
   "cell_type": "code",
   "execution_count": 113,
   "id": "ed63d79e-359d-41ac-b58b-e38c15329082",
   "metadata": {},
   "outputs": [],
   "source": [
    "import pickle\n",
    "pickle.dump(Random_Forest,open('Random_Forest.pkl','wb'))"
   ]
  },
  {
   "cell_type": "markdown",
   "id": "5c7a7e3d-c955-4524-9240-a972a0a2b8b9",
   "metadata": {},
   "source": [
    "#### Loading The Model"
   ]
  },
  {
   "cell_type": "code",
   "execution_count": 114,
   "id": "00b8aa22-183a-4d42-831b-f5a8e1b2186f",
   "metadata": {},
   "outputs": [],
   "source": [
    "Random_Forest = pickle.load(open('Random_Forest.pkl','rb'))"
   ]
  },
  {
   "cell_type": "markdown",
   "id": "eed4855e-b3a0-46d0-81e7-afe162654b7b",
   "metadata": {},
   "source": [
    "## PRESCRIBING SYSTEM\n",
    "#### Loading datasets"
   ]
  },
  {
   "cell_type": "code",
   "execution_count": 121,
   "id": "344b3bc7-404b-4d8f-b4b1-18c731c1888e",
   "metadata": {},
   "outputs": [],
   "source": [
    "description_df = pd.read_csv(\"C:/Users/user/Downloads/Disease_diagnosis system/dataset/description.csv\")\n",
    "symptoms_df = pd.read_csv(\"C:/Users/user/Downloads/Disease_diagnosis system/dataset/symptoms_df.csv\")\n",
    "Symptom_severity_df = pd.read_csv(\"C:/Users/user/Downloads/Disease_diagnosis system/dataset/Symptom-severity.csv\")\n",
    "precautions_df = pd.read_csv(\"C:/Users/user/Downloads/Disease_diagnosis system/dataset/precautions_df.csv\")\n",
    "medications_df = pd.read_csv(\"C:/Users/user/Downloads/Disease_diagnosis system/dataset/medications.csv\")\n",
    "workout_df = pd.read_csv(\"C:/Users/user/Downloads/Disease_diagnosis system/dataset/workout_df.csv\")\n",
    "diets = pd.read_csv(\"C:/Users/user/Downloads/Disease_diagnosis system/dataset/diets.csv\")"
   ]
  },
  {
   "cell_type": "markdown",
   "id": "84dc6b93-5c13-442f-a49a-fec27f107c3e",
   "metadata": {},
   "source": [
    "#### Mapping"
   ]
  },
  {
   "cell_type": "code",
   "execution_count": 116,
   "id": "c7526927-61ff-4114-9a93-afe34016b454",
   "metadata": {},
   "outputs": [
    {
     "name": "stdout",
     "output_type": "stream",
     "text": [
      "{0: '(vertigo) Paroymsal  Positional Vertigo', 1: 'AIDS', 2: 'Acne', 3: 'Alcoholic hepatitis', 4: 'Allergy', 5: 'Arthritis', 6: 'Bronchial Asthma', 7: 'Cervical spondylosis', 8: 'Chicken pox', 9: 'Chronic cholestasis', 10: 'Common Cold', 11: 'Dengue', 12: 'Diabetes ', 13: 'Dimorphic hemmorhoids(piles)', 14: 'Drug Reaction', 15: 'Fungal infection', 16: 'GERD', 17: 'Gastroenteritis', 18: 'Heart attack', 19: 'Hepatitis B', 20: 'Hepatitis C', 21: 'Hepatitis D', 22: 'Hepatitis E', 23: 'Hypertension ', 24: 'Hyperthyroidism', 25: 'Hypoglycemia', 26: 'Hypothyroidism', 27: 'Impetigo', 28: 'Jaundice', 29: 'Malaria', 30: 'Migraine', 31: 'Osteoarthristis', 32: 'Paralysis (brain hemorrhage)', 33: 'Peptic ulcer diseae', 34: 'Pneumonia', 35: 'Psoriasis', 36: 'Tuberculosis', 37: 'Typhoid', 38: 'Urinary tract infection', 39: 'Varicose veins', 40: 'hepatitis A'}\n"
     ]
    }
   ],
   "source": [
    "\n",
    "prognosis_mapping = {index: disease for index, disease in enumerate(le.classes_)}\n",
    "\n",
    "print(prognosis_mapping)\n"
   ]
  },
  {
   "cell_type": "code",
   "execution_count": 117,
   "id": "968ce416-acbb-48e2-96f6-5b9a3829cc63",
   "metadata": {},
   "outputs": [
    {
     "name": "stdout",
     "output_type": "stream",
     "text": [
      "{0: 'itching', 1: 'skin_rash', 2: 'nodal_skin_eruptions', 3: 'continuous_sneezing', 4: 'shivering', 5: 'chills', 6: 'joint_pain', 7: 'stomach_pain', 8: 'acidity', 9: 'ulcers_on_tongue', 10: 'muscle_wasting', 11: 'vomiting', 12: 'burning_micturition', 13: 'spotting_ urination', 14: 'fatigue', 15: 'weight_gain', 16: 'anxiety', 17: 'cold_hands_and_feets', 18: 'mood_swings', 19: 'weight_loss', 20: 'restlessness', 21: 'lethargy', 22: 'patches_in_throat', 23: 'irregular_sugar_level', 24: 'cough', 25: 'high_fever', 26: 'sunken_eyes', 27: 'breathlessness', 28: 'sweating', 29: 'dehydration', 30: 'indigestion', 31: 'headache', 32: 'yellowish_skin', 33: 'dark_urine', 34: 'nausea', 35: 'loss_of_appetite', 36: 'pain_behind_the_eyes', 37: 'back_pain', 38: 'constipation', 39: 'abdominal_pain', 40: 'diarrhoea', 41: 'mild_fever', 42: 'yellow_urine', 43: 'yellowing_of_eyes', 44: 'acute_liver_failure', 45: 'fluid_overload', 46: 'swelling_of_stomach', 47: 'swelled_lymph_nodes', 48: 'malaise', 49: 'blurred_and_distorted_vision', 50: 'phlegm', 51: 'throat_irritation', 52: 'redness_of_eyes', 53: 'sinus_pressure', 54: 'runny_nose', 55: 'congestion', 56: 'chest_pain', 57: 'weakness_in_limbs', 58: 'fast_heart_rate', 59: 'pain_during_bowel_movements', 60: 'pain_in_anal_region', 61: 'bloody_stool', 62: 'irritation_in_anus', 63: 'neck_pain', 64: 'dizziness', 65: 'cramps', 66: 'bruising', 67: 'obesity', 68: 'swollen_legs', 69: 'swollen_blood_vessels', 70: 'puffy_face_and_eyes', 71: 'enlarged_thyroid', 72: 'brittle_nails', 73: 'swollen_extremeties', 74: 'excessive_hunger', 75: 'extra_marital_contacts', 76: 'drying_and_tingling_lips', 77: 'slurred_speech', 78: 'knee_pain', 79: 'hip_joint_pain', 80: 'muscle_weakness', 81: 'stiff_neck', 82: 'swelling_joints', 83: 'movement_stiffness', 84: 'spinning_movements', 85: 'loss_of_balance', 86: 'unsteadiness', 87: 'weakness_of_one_body_side', 88: 'loss_of_smell', 89: 'bladder_discomfort', 90: 'foul_smell_of urine', 91: 'continuous_feel_of_urine', 92: 'passage_of_gases', 93: 'internal_itching', 94: 'toxic_look_(typhos)', 95: 'depression', 96: 'irritability', 97: 'muscle_pain', 98: 'altered_sensorium', 99: 'red_spots_over_body', 100: 'belly_pain', 101: 'abnormal_menstruation', 102: 'dischromic _patches', 103: 'watering_from_eyes', 104: 'increased_appetite', 105: 'polyuria', 106: 'family_history', 107: 'mucoid_sputum', 108: 'rusty_sputum', 109: 'lack_of_concentration', 110: 'visual_disturbances', 111: 'receiving_blood_transfusion', 112: 'receiving_unsterile_injections', 113: 'coma', 114: 'stomach_bleeding', 115: 'distention_of_abdomen', 116: 'history_of_alcohol_consumption', 117: 'fluid_overload.1', 118: 'blood_in_sputum', 119: 'prominent_veins_on_calf', 120: 'palpitations', 121: 'painful_walking', 122: 'pus_filled_pimples', 123: 'blackheads', 124: 'scurring', 125: 'skin_peeling', 126: 'silver_like_dusting', 127: 'small_dents_in_nails', 128: 'inflammatory_nails', 129: 'blister', 130: 'red_sore_around_nose', 131: 'yellow_crust_ooze'}\n"
     ]
    }
   ],
   "source": [
    "\n",
    "symptom_mapping = {index: symptom for index, symptom in enumerate(X.columns)}\n",
    "\n",
    "print(symptom_mapping)\n"
   ]
  },
  {
   "cell_type": "markdown",
   "id": "0c40f397-4976-4ffe-9a79-d1bb082c0e98",
   "metadata": {},
   "source": [
    "#### Predicting Function"
   ]
  },
  {
   "cell_type": "code",
   "execution_count": 118,
   "id": "bddcf3b0-415f-4ff3-a80d-939260c969cc",
   "metadata": {},
   "outputs": [],
   "source": [
    "import numpy as np\n",
    "\n",
    "def helper(disease_name):\n",
    "    # Get disease description\n",
    "    desc = description_df.loc[description_df['Disease'] == disease_name, 'Description']\n",
    "    desc = \" \".join([w for w in desc])\n",
    "\n",
    "    # Get precautions\n",
    "    pre = precautions_df.loc[precautions_df['Disease'] == disease_name, ['Precaution_1', 'Precaution_2', 'Precaution_3', 'Precaution_4']]\n",
    "    pre = [col for col in pre.values]\n",
    "\n",
    "    # Get medications\n",
    "    med = medications_df.loc[medications_df['Disease'] == disease_name, 'Medication']\n",
    "    med = [med for med in med.values]\n",
    "\n",
    "    # Get diet recommendations\n",
    "    die = diets.loc[diets['Disease'] == disease_name, 'Diet']\n",
    "    die = [die for die in die.values]\n",
    "\n",
    "    # Get workouts\n",
    "    wrkout = workout_df.loc[workout_df['disease'] == disease_name, 'workout']\n",
    "    wrkout = wrkout.tolist() if not wrkout.empty else [\"No workout suggestions available\"]\n",
    "\n",
    "    return desc,pre,med,die,wrkout\n",
    "\n",
    "# Inverted symptoms dictionary for correct lookup\n",
    "symptoms_dict = {0: 'itching', 1: 'skin_rash', 2: 'nodal_skin_eruptions', 3: 'continuous_sneezing', 4: 'shivering', 5: 'chills', 6: 'joint_pain', 7: 'stomach_pain', 8: 'acidity', 9: 'ulcers_on_tongue', 10: 'muscle_wasting', 11: 'vomiting', 12: 'burning_micturition', 13: 'spotting_ urination', 14: 'fatigue', 15: 'weight_gain', 16: 'anxiety', 17: 'cold_hands_and_feets', 18: 'mood_swings', 19: 'weight_loss', 20: 'restlessness', 21: 'lethargy', 22: 'patches_in_throat', 23: 'irregular_sugar_level', 24: 'cough', 25: 'high_fever', 26: 'sunken_eyes', 27: 'breathlessness', 28: 'sweating', 29: 'dehydration', 30: 'indigestion', 31: 'headache', 32: 'yellowish_skin', 33: 'dark_urine', 34: 'nausea', 35: 'loss_of_appetite', 36: 'pain_behind_the_eyes', 37: 'back_pain', 38: 'constipation', 39: 'abdominal_pain', 40: 'diarrhoea', 41: 'mild_fever', 42: 'yellow_urine', 43: 'yellowing_of_eyes', 44: 'acute_liver_failure', 45: 'fluid_overload', 46: 'swelling_of_stomach', 47: 'swelled_lymph_nodes', 48: 'malaise', 49: 'blurred_and_distorted_vision', 50: 'phlegm', 51: 'throat_irritation', 52: 'redness_of_eyes', 53: 'sinus_pressure', 54: 'runny_nose', 55: 'congestion', 56: 'chest_pain', 57: 'weakness_in_limbs', 58: 'fast_heart_rate', 59: 'pain_during_bowel_movements', 60: 'pain_in_anal_region', 61: 'bloody_stool', 62: 'irritation_in_anus', 63: 'neck_pain', 64: 'dizziness', 65: 'cramps', 66: 'bruising', 67: 'obesity', 68: 'swollen_legs', 69: 'swollen_blood_vessels', 70: 'puffy_face_and_eyes', 71: 'enlarged_thyroid', 72: 'brittle_nails', 73: 'swollen_extremeties', 74: 'excessive_hunger', 75: 'extra_marital_contacts', 76: 'drying_and_tingling_lips', 77: 'slurred_speech', 78: 'knee_pain', 79: 'hip_joint_pain', 80: 'muscle_weakness', 81: 'stiff_neck', 82: 'swelling_joints', 83: 'movement_stiffness', 84: 'spinning_movements', 85: 'loss_of_balance', 86: 'unsteadiness', 87: 'weakness_of_one_body_side', 88: 'loss_of_smell', 89: 'bladder_discomfort', 90: 'foul_smell_of urine', 91: 'continuous_feel_of_urine', 92: 'passage_of_gases', 93: 'internal_itching', 94: 'toxic_look_(typhos)', 95: 'depression', 96: 'irritability', 97: 'muscle_pain', 98: 'altered_sensorium', 99: 'red_spots_over_body', 100: 'belly_pain', 101: 'abnormal_menstruation', 102: 'dischromic _patches', 103: 'watering_from_eyes', 104: 'increased_appetite', 105: 'polyuria', 106: 'family_history', 107: 'mucoid_sputum', 108: 'rusty_sputum', 109: 'lack_of_concentration', 110: 'visual_disturbances', 111: 'receiving_blood_transfusion', 112: 'receiving_unsterile_injections', 113: 'coma', 114: 'stomach_bleeding', 115: 'distention_of_abdomen', 116: 'history_of_alcohol_consumption', 117: 'fluid_overload.1', 118: 'blood_in_sputum', 119: 'prominent_veins_on_calf', 120: 'palpitations', 121: 'painful_walking', 122: 'pus_filled_pimples', 123: 'blackheads', 124: 'scurring', 125: 'skin_peeling', 126: 'silver_like_dusting', 127: 'small_dents_in_nails', 128: 'inflammatory_nails', 129: 'blister', 130: 'red_sore_around_nose', 131: 'yellow_crust_ooze'}\n",
    "disease_list = {0: '(vertigo) Paroymsal  Positional Vertigo', 1: 'AIDS', 2: 'Acne', 3: 'Alcoholic hepatitis', 4: 'Allergy', 5: 'Arthritis', 6: 'Bronchial Asthma', 7: 'Cervical spondylosis', 8: 'Chicken pox', 9: 'Chronic cholestasis', 10: 'Common Cold', 11: 'Dengue', 12: 'Diabetes ', 13: 'Dimorphic hemmorhoids(piles)', 14: 'Drug Reaction', 15: 'Fungal infection', 16: 'GERD', 17: 'Gastroenteritis', 18: 'Heart attack', 19: 'Hepatitis B', 20: 'Hepatitis C', 21: 'Hepatitis D', 22: 'Hepatitis E', 23: 'Hypertension ', 24: 'Hyperthyroidism', 25: 'Hypoglycemia', 26: 'Hypothyroidism', 27: 'Impetigo', 28: 'Jaundice', 29: 'Malaria', 30: 'Migraine', 31: 'Osteoarthristis', 32: 'Paralysis (brain hemorrhage)', 33: 'Peptic ulcer diseae', 34: 'Pneumonia', 35: 'Psoriasis', 36: 'Tuberculosis', 37: 'Typhoid', 38: 'Urinary tract infection', 39: 'Varicose veins', 40: 'hepatitis A'}\n",
    "\n",
    "def get_predicted_value(patient_symptoms, model):\n",
    "    input_vector = np.zeros(len(symptoms_dict))\n",
    "    \n",
    "    for symptom in patient_symptoms:\n",
    "        if symptom in symptoms_dict:\n",
    "            input_vector[symptoms_dict[symptom]] = 1\n",
    "    \n",
    "    predicted_disease_index = model.predict([input_vector])[0]\n",
    "    return disease_list.get(predicted_disease_index, \"Unknown Disease\")\n"
   ]
  },
  {
   "cell_type": "markdown",
   "id": "40262f68-cd8b-47c7-8183-0b9b929e48bb",
   "metadata": {},
   "source": [
    "#### Testing"
   ]
  },
  {
   "cell_type": "code",
   "execution_count": 119,
   "id": "0d66fcb2-1544-4464-861b-bc5f98842582",
   "metadata": {},
   "outputs": [
    {
     "name": "stdin",
     "output_type": "stream",
     "text": [
      "Enter your symptoms....... itching,skin_rash,nodal_skin_eruptions\n"
     ]
    },
    {
     "name": "stdout",
     "output_type": "stream",
     "text": [
      "=================predicted disease============\n",
      "Chronic cholestasis\n",
      "=================description==================\n",
      "Chronic cholestasis is a condition where bile flow from the liver is reduced for a prolonged period.\n",
      "=================precautions==================\n",
      "1 :  cold baths\n",
      "2 :  anti itch medicine\n",
      "3 :  consult doctor\n",
      "4 :  eat healthy\n",
      "=================medications==================\n",
      "5 :  ['Ursodeoxycholic acid', 'Cholestyramine', 'Methotrexate', 'Corticosteroids', 'Liver transplant']\n",
      "=================workout==================\n",
      "6 :  Consume a low-fat diet\n",
      "7 :  Eat high-fiber foods\n",
      "8 :  Include healthy fats\n",
      "9 :  Limit alcohol consumption\n",
      "10 :  Stay hydrated\n",
      "11 :  Consume antioxidant-rich foods\n",
      "12 :  Include omega-3 fatty acids\n",
      "13 :  Include lean proteins\n",
      "14 :  Limit processed foods\n",
      "15 :  Avoid fried foods\n",
      "=================diets==================\n",
      "16 :  ['Low-Fat Diet', 'High-Fiber Diet', 'Lean proteins', 'Whole grains', 'Fresh fruits and vegetables']\n"
     ]
    },
    {
     "name": "stderr",
     "output_type": "stream",
     "text": [
      "C:\\Users\\user\\AppData\\Roaming\\Python\\Python311\\site-packages\\sklearn\\base.py:493: UserWarning: X does not have valid feature names, but MultinomialNB was fitted with feature names\n",
      "  warnings.warn(\n"
     ]
    }
   ],
   "source": [
    "symptoms = input(\"Enter your symptoms.......\")\n",
    "patient_symptoms = [s.strip() for s in symptoms.split(',')]\n",
    "patient_symptoms = [symptom.strip(\"[]' \") for symptom in patient_symptoms]\n",
    "predicted_disease = get_predicted_value(patient_symptoms, model)\n",
    "\n",
    "desc, pre, med, die, wrkout = helper(predicted_disease)\n",
    "\n",
    "print(\"=================predicted disease============\")\n",
    "print(predicted_disease)\n",
    "print(\"=================description==================\")\n",
    "print(desc)\n",
    "print(\"=================precautions==================\")\n",
    "i = 1\n",
    "for p_i in pre[0]:\n",
    "    print(i, \": \", p_i)\n",
    "    i += 1\n",
    "\n",
    "print(\"=================medications==================\")\n",
    "for m_i in med:\n",
    "    print(i, \": \", m_i)\n",
    "    i += 1\n",
    "\n",
    "print(\"=================workout==================\")\n",
    "for w_i in wrkout:\n",
    "    print(i, \": \", w_i)\n",
    "    i += 1\n",
    "\n",
    "print(\"=================diets==================\")\n",
    "for d_i in die:\n",
    "    print(i, \": \", d_i)\n",
    "    i += 1"
   ]
  },
  {
   "cell_type": "code",
   "execution_count": null,
   "id": "6216d6ec-f457-4bf7-bffc-5fa31b1d463c",
   "metadata": {},
   "outputs": [],
   "source": []
  }
 ],
 "metadata": {
  "kernelspec": {
   "display_name": "Python 3 (ipykernel)",
   "language": "python",
   "name": "python3"
  },
  "language_info": {
   "codemirror_mode": {
    "name": "ipython",
    "version": 3
   },
   "file_extension": ".py",
   "mimetype": "text/x-python",
   "name": "python",
   "nbconvert_exporter": "python",
   "pygments_lexer": "ipython3",
   "version": "3.11.1"
  }
 },
 "nbformat": 4,
 "nbformat_minor": 5
}
